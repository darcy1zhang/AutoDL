{
 "cells": [
  {
   "cell_type": "code",
   "execution_count": null,
   "id": "051e90d6-6c2c-451d-b345-cf5ff27911e6",
   "metadata": {},
   "outputs": [],
   "source": [
    "import torch.optim as optim\n",
    "from dataset import *\n",
    "from model import *\n",
    "from sklearn.preprocessing import MinMaxScaler\n",
    "import matplotlib.pyplot as plt\n",
    "\n",
    "train_log = np.array([])\n",
    "test_log = np.array([])\n",
    "lambda_l1 = 0\n",
    "\n",
    "criterion = nn.L1Loss()\n",
    "criterion = criterion.cuda()\n",
    "\n",
    "model = CNN_four_layer(32).cuda()\n",
    "optimizer = optim.Adam(model.parameters(), lr=0.001)\n",
    "\n",
    "# tmp = np.load(\"../data/simu_20000_0.1_90_140_train.npy\")\n",
    "# max = np.max(tmp[:, 1004])\n",
    "# min = np.min(tmp[:, 1004])\n",
    "# print(max, min)\n",
    "\n",
    "train_dataset = Dataset(\"../data/simu_20000_0.1_90_140_train.npy\", 0, 0)\n",
    "train_loader = DataLoader(train_dataset, batch_size=16, shuffle=True)\n",
    "test_dataset = Dataset(\"../data/simu_10000_0.1_141_178_test.npy\", 0, 1)\n",
    "test_loader = DataLoader(test_dataset, batch_size=16, shuffle=True)\n",
    "\n",
    "\n",
    "for batch_idx, (data, target) in enumerate(train_loader):\n",
    "    data, target = data.cuda(), target.cuda()\n",
    "    output = model(data)\n",
    "    # print(data[1,0,:10])\n",
    "    # print(data[2,0,:10])\n",
    "    # print(target)\n",
    "\n",
    "    loss = criterion(output, target)\n",
    "\n",
    "    optimizer.zero_grad()\n",
    "    loss.backward()\n",
    "    optimizer.step()\n"
   ]
  }
 ],
 "metadata": {
  "kernelspec": {
   "display_name": "Python 3 (ipykernel)",
   "language": "python",
   "name": "python3"
  },
  "language_info": {
   "codemirror_mode": {
    "name": "ipython",
    "version": 3
   },
   "file_extension": ".py",
   "mimetype": "text/x-python",
   "name": "python",
   "nbconvert_exporter": "python",
   "pygments_lexer": "ipython3",
   "version": "3.8.10"
  }
 },
 "nbformat": 4,
 "nbformat_minor": 5
}
