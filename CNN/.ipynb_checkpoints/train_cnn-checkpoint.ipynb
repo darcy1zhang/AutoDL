{
 "cells": [
  {
   "cell_type": "code",
   "execution_count": null,
   "id": "33c2eb0f-2ac8-4bcb-b598-9fc5fe84cce1",
   "metadata": {},
   "outputs": [
    {
     "name": "stdout",
     "output_type": "stream",
     "text": [
      "140.0 90.0\n",
      "S--epoch:0    MAE:34.52039302062988   Pure:13.103181016921997\n",
      "epoch:0    MAE_test:19.432834579467773\n",
      "S--epoch:1    MAE:19.42936915359497   Pure:6.263865045928955\n",
      "epoch:1    MAE_test:17.605915838623048\n",
      "S--epoch:2    MAE:17.546571894836426   Pure:5.6072628074646\n",
      "epoch:2    MAE_test:38.045252670288086\n",
      "S--epoch:3    MAE:14.357644539642333   Pure:5.359473721694946\n",
      "epoch:3    MAE_test:15.64778699798584\n",
      "S--epoch:4    MAE:12.191498062515258   Pure:5.242902300262451\n",
      "epoch:4    MAE_test:16.20448891220093\n",
      "S--epoch:5    MAE:10.280285360336304   Pure:5.118768301391602\n",
      "epoch:5    MAE_test:15.174122073364257\n",
      "S--epoch:6    MAE:9.318915112686158   Pure:4.916886475372315\n",
      "epoch:6    MAE_test:15.806168698120118\n",
      "S--epoch:7    MAE:8.94953896522522   Pure:4.801267649841309\n",
      "epoch:7    MAE_test:17.868961865234375\n",
      "S--epoch:8    MAE:8.698557359313964   Pure:4.883433176803589\n",
      "epoch:8    MAE_test:15.52296634979248\n",
      "S--epoch:9    MAE:8.557712242126465   Pure:4.809908636474609\n",
      "epoch:9    MAE_test:17.6266804397583\n",
      "S--epoch:10    MAE:8.275199104309083   Pure:4.728739309310913\n",
      "epoch:10    MAE_test:16.376677714538573\n",
      "Test_epoch:10    MAE_test:16.376677714538573\n"
     ]
    },
    {
     "data": {
      "image/png": "[encoded data removed]",
      "text/plain": [
       "<Figure size 432x288 with 1 Axes>"
      ]
     },
     "metadata": {
      "needs_background": "light"
     },
     "output_type": "display_data"
    },
    {
     "name": "stdout",
     "output_type": "stream",
     "text": [
      "S--epoch:11    MAE:8.14093740196228   Pure:4.742444046783447\n",
      "epoch:11    MAE_test:16.764382389831542\n",
      "S--epoch:12    MAE:8.001512210083007   Pure:4.636353633880615\n",
      "epoch:12    MAE_test:17.82103828125\n"
     ]
    }
   ],
   "source": [
    "import torch.optim as optim\n",
    "from dataset import *\n",
    "from model import *\n",
    "from sklearn.preprocessing import MinMaxScaler\n",
    "import matplotlib.pyplot as plt\n",
    "\n",
    "train_log = np.array([])\n",
    "test_log = np.array([])\n",
    "lambda_l1 = 0.01\n",
    "\n",
    "criterion = nn.L1Loss()\n",
    "criterion = criterion.cuda()\n",
    "\n",
    "model = VGG().cuda()\n",
    "optimizer = optim.Adam(model.parameters(), lr=0.0005)\n",
    "\n",
    "tmp = np.load(\"../data/simu_20000_0.1_90_140_train.npy\")\n",
    "max = np.max(tmp[:, 1004])\n",
    "min = np.min(tmp[:, 1004])\n",
    "print(max, min)\n",
    "\n",
    "train_dataset = Dataset(\"../data/simu_20000_0.1_90_140_train.npy\", 0, 0)\n",
    "train_loader = DataLoader(train_dataset, batch_size=16, shuffle=True)\n",
    "test_dataset = Dataset(\"../data/simu_10000_0.1_90_140_resonance_morlet.npy\", 0, 1)\n",
    "test_loader = DataLoader(test_dataset, batch_size=16, shuffle=True)\n",
    "\n",
    "for epoch in range(500):\n",
    "    model.train()\n",
    "\n",
    "    loss_total = 0\n",
    "    step = 0\n",
    "    \n",
    "    loss_pure = 0\n",
    "\n",
    "    for batch_idx, (data, target) in enumerate(train_loader):\n",
    "        data, target = data.cuda(), target.cuda()\n",
    "        output = model(data)\n",
    "        \n",
    "        loss = criterion(output, target)\n",
    "        loss_pure = loss_pure + loss.item()\n",
    "        \n",
    "        l1_regularization = torch.tensor(0.0).cuda()\n",
    "        for param in model.parameters():\n",
    "            l1_regularization += torch.norm(param, p=1)\n",
    "        loss += l1_regularization * lambda_l1\n",
    "        \n",
    "        optimizer.zero_grad()\n",
    "        loss.backward()\n",
    "        optimizer.step()\n",
    "\n",
    "        loss_total = loss_total + loss.item()\n",
    "        step = step + 1\n",
    "\n",
    "    tmp = './pth/S_model_%d_%.4f.pth' % (epoch, loss_total/step)\n",
    "    if epoch % 10 == 0:\n",
    "        torch.save(model, tmp)\n",
    "    print(\"S--epoch:\" + str(epoch) + \"    MAE:\" + str(loss_total/step) + \"   Pure:\" + str(loss_pure/step))\n",
    "    train_log = np.append(train_log, loss_total/step)\n",
    "\n",
    "    loss_test = 0\n",
    "    step = 0\n",
    "    with torch.no_grad():\n",
    "        for batch_idx, (data, target) in enumerate(test_loader):\n",
    "            data, target = data.cuda(), target.cuda()\n",
    "            output = model(data)\n",
    "\n",
    "            # inv_norm\n",
    "            # output = output * (max - min) + min\n",
    "\n",
    "            loss = criterion(output, target)\n",
    "\n",
    "            loss_test = loss_test + loss.item()\n",
    "            step = step + 1\n",
    "\n",
    "        loss_mean = loss_test / step\n",
    "        print(\"epoch:\" + str(epoch) + \"    MAE_test:\" + str(loss_mean))\n",
    "        test_log = np.append(test_log, loss_mean)\n",
    "    \n",
    "    if epoch % 10 == 0 and epoch != 0:\n",
    "        print(\"Test_epoch:\" + str(epoch) + \"    MAE_test:\" + str(loss_mean))\n",
    "        # tmp_epoch = np.arange(epoch+1)\n",
    "        # print(tmp_epoch)\n",
    "        # print(next(model.OneToOneLayer.parameters()))\n",
    "        plt.plot(train_log)\n",
    "        plt.plot(test_log)\n",
    "        plt.ylim(0,20)\n",
    "        plt.show()"
   ]
  }
 ],
 "metadata": {
  "kernelspec": {
   "display_name": "Python 3 (ipykernel)",
   "language": "python",
   "name": "python3"
  },
  "language_info": {
   "codemirror_mode": {
    "name": "ipython",
    "version": 3
   },
   "file_extension": ".py",
   "mimetype": "text/x-python",
   "name": "python",
   "nbconvert_exporter": "python",
   "pygments_lexer": "ipython3",
   "version": "3.8.10"
  }
 },
 "nbformat": 4,
 "nbformat_minor": 5
}
