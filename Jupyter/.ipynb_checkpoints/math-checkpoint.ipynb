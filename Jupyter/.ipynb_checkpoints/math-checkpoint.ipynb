{
 "cells": [
  {
   "cell_type": "code",
   "execution_count": null,
   "id": "0deecfb7-80d5-4ea1-8383-a2bb9539430c",
   "metadata": {},
   "outputs": [],
   "source": [
    "import torch\n",
    "import numpy as np\n",
    "from torch.utils.data import DataLoader, Dataset\n",
    "from sklearn.preprocessing import MinMaxScaler"
   ]
  },
  {
   "cell_type": "code",
   "execution_count": null,
   "id": "2428f530-5394-40c1-a692-8574a413d3e8",
   "metadata": {},
   "outputs": [],
   "source": [
    "class Dataset(Dataset):\n",
    "\n",
    "    def __init__(self):\n",
    "        self.data = np.load(para)\n",
    "        self.unrelated_feature_number = unrelated_feature_number\n",
    "        train_data = np.load(\"../data/features_rand_train.npy\")\n",
    "\n",
    "        # normalize\n",
    "        mean = np.mean(train_data, axis=0)\n",
    "        std = np.std(train_data, axis=0)\n",
    "        self.data = (self.data-mean)/std\n",
    "\n",
    "    def __len__(self):\n",
    "        return self.data.shape[0]\n",
    "\n",
    "    def __getitem__(self, idx):\n",
    "        if self.s_or_d == \"s\":\n",
    "            X_train = self.data[idx, :3]\n",
    "        else:\n",
    "            X_train = self.data[idx, 3:5]\n",
    "            \n",
    "        if self.unrelated_feature_number != 0:\n",
    "            X_train = np.hstack((X_train,self.unrelated_feature[idx,:]))\n",
    "\n",
    "        if self.train_or_test == \"train\":\n",
    "            label_data = self.raw_data_train\n",
    "        else:\n",
    "            label_data = self.raw_data_test\n",
    "\n",
    "        if self.s_or_d == \"s\":\n",
    "            Y_train = label_data[idx, 1004]\n",
    "        else:\n",
    "            Y_train = label_data[idx, 1005]\n",
    "\n",
    "        Y_train = np.array([Y_train])\n",
    "        Y_train = Y_train.reshape((1,1))\n",
    "\n",
    "        # 转为torch格式\n",
    "        X_train = np.array([X_train])\n",
    "        X_train = torch.from_numpy(X_train)\n",
    "        Y_train = torch.from_numpy(Y_train)\n",
    "        X_train = X_train.type(torch.FloatTensor)\n",
    "        Y_train = Y_train.type(torch.FloatTensor)\n",
    "\n",
    "        # Y_train = Y_train.view(Y_train.size(0), 1, 1)\n",
    "\n",
    "        return X_train, Y_train"
   ]
  }
 ],
 "metadata": {
  "kernelspec": {
   "display_name": "Python 3 (ipykernel)",
   "language": "python",
   "name": "python3"
  },
  "language_info": {
   "codemirror_mode": {
    "name": "ipython",
    "version": 3
   },
   "file_extension": ".py",
   "mimetype": "text/x-python",
   "name": "python",
   "nbconvert_exporter": "python",
   "pygments_lexer": "ipython3",
   "version": "3.8.10"
  }
 },
 "nbformat": 4,
 "nbformat_minor": 5
}
