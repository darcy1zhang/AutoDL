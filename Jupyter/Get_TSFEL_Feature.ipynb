{
 "cells": [
  {
   "cell_type": "code",
   "execution_count": 2,
   "id": "3e635ce4-ed83-4830-b75f-d12a823c9e5d",
   "metadata": {},
   "outputs": [
    {
     "ename": "ModuleNotFoundError",
     "evalue": "No module named 'tsfel'",
     "output_type": "error",
     "traceback": [
      "\u001b[0;31m---------------------------------------------------------------------------\u001b[0m",
      "\u001b[0;31mModuleNotFoundError\u001b[0m                       Traceback (most recent call last)",
      "Input \u001b[0;32mIn [2]\u001b[0m, in \u001b[0;36m<cell line: 3>\u001b[0;34m()\u001b[0m\n\u001b[1;32m      1\u001b[0m \u001b[38;5;28;01mimport\u001b[39;00m \u001b[38;5;21;01mnumpy\u001b[39;00m \u001b[38;5;28;01mas\u001b[39;00m \u001b[38;5;21;01mnp\u001b[39;00m\n\u001b[1;32m      2\u001b[0m \u001b[38;5;28;01mimport\u001b[39;00m \u001b[38;5;21;01mmatplotlib\u001b[39;00m\u001b[38;5;21;01m.\u001b[39;00m\u001b[38;5;21;01mpyplot\u001b[39;00m \u001b[38;5;28;01mas\u001b[39;00m \u001b[38;5;21;01mplt\u001b[39;00m\n\u001b[0;32m----> 3\u001b[0m \u001b[38;5;28;01mimport\u001b[39;00m \u001b[38;5;21;01mtsfel\u001b[39;00m\n\u001b[1;32m      4\u001b[0m \u001b[38;5;28;01mfrom\u001b[39;00m \u001b[38;5;21;01mscipy\u001b[39;00m\u001b[38;5;21;01m.\u001b[39;00m\u001b[38;5;21;01msignal\u001b[39;00m \u001b[38;5;28;01mimport\u001b[39;00m argrelextrema, find_peaks\n\u001b[1;32m      5\u001b[0m \u001b[38;5;28;01mfrom\u001b[39;00m \u001b[38;5;21;01mscipy\u001b[39;00m\u001b[38;5;21;01m.\u001b[39;00m\u001b[38;5;21;01minterpolate\u001b[39;00m \u001b[38;5;28;01mimport\u001b[39;00m interp1d\n",
      "\u001b[0;31mModuleNotFoundError\u001b[0m: No module named 'tsfel'"
     ]
    }
   ],
   "source": [
    "import numpy as np\n",
    "import matplotlib.pyplot as plt\n",
    "import tsfel\n",
    "from scipy.signal import argrelextrema, find_peaks\n",
    "from scipy.interpolate import interp1d\n",
    "from scipy.optimize import curve_fit\n",
    "import math\n",
    "import json\n",
    "from sklearn.metrics import mean_squared_error"
   ]
  },
  {
   "cell_type": "code",
   "execution_count": 2,
   "id": "b5c9e377-f998-476f-8058-d687174f4cdd",
   "metadata": {},
   "outputs": [],
   "source": [
    "# 用来去除peaks里的错误值\n",
    "def update_array(a, data_tmp):\n",
    "    i = 0\n",
    "    while i < len(a) - 2:\n",
    "        if data_tmp[a[i]] < data_tmp[a[i + 1]] < data_tmp[a[i + 2]]:\n",
    "            a = np.delete(a, i)\n",
    "        elif data_tmp[a[i]] > data_tmp[a[i + 1]] > data_tmp[a[i + 2]]:\n",
    "            a = np.delete(a, i + 2)\n",
    "        else:\n",
    "            i += 1\n",
    "    return a\n",
    "\n",
    "# 用来获得信号的峰值点\n",
    "def get_peaks(signal):\n",
    "    t = np.arange(1000)\n",
    "    # 峰值检测\n",
    "    peak_indices, _ = find_peaks(signal)  # 返回极大值点的索引\n",
    "\n",
    "    # 线性插值\n",
    "    t_peaks = t[peak_indices]  # 极大值点的时间\n",
    "    peak_values = signal[peak_indices]  # 极大值点的幅值\n",
    "    interpolation_func = interp1d(t_peaks, peak_values, kind='linear', bounds_error=False, fill_value=0)\n",
    "    envelope = interpolation_func(t)\n",
    "    \n",
    "    # 提取峰值点形成的波的波峰\n",
    "    peaks2,_ = find_peaks(envelope, distance = 10)\n",
    "\n",
    "    peaks2 = update_array(peaks2, signal)\n",
    "    \n",
    "    if signal[peaks2[0]]>signal[peaks2[1]]:\n",
    "        peaks2 = np.delete(peaks2, 0)\n",
    "    \n",
    "    if len(peaks2)%2 != 0:\n",
    "        peaks2 = np.delete(peaks2, len(peaks2) - 1)\n",
    "    \n",
    "    return peaks2\n",
    "\n",
    "# use cluster method to get the template\n",
    "def get_template(signal):\n",
    "\n",
    "    peaks2 = get_peaks(signal)\n",
    "\n",
    "    avg_index = (peaks2[::2] + peaks2[1::2]) // 2\n",
    "\n",
    "    # 使用这些平均数作为x的下标，将x切割成多个部分\n",
    "    splits = np.split(signal, avg_index)\n",
    "\n",
    "    max_length = max(len(split) for split in splits)\n",
    "\n",
    "    # 补充每个部分使其长度相等\n",
    "    padded_splits = [np.pad(split, (0, max_length - len(split))) for split in splits]\n",
    "\n",
    "    # 将这些部分堆叠成一个二维数组\n",
    "    stacked_array = np.vstack(padded_splits)\n",
    "    stacked_array = np.delete(stacked_array, 0, axis=0)\n",
    "\n",
    "    class PulseClustering:\n",
    "        def __init__(self, threshold):\n",
    "            self.threshold = threshold\n",
    "            self.clusters = []\n",
    "\n",
    "        def fit(self, pulses):\n",
    "            for pulse in pulses:\n",
    "                if not self.clusters:  # 如果聚类为空，创建第一个聚类\n",
    "                    self.clusters.append([pulse])\n",
    "                else:\n",
    "                    for cluster in self.clusters:\n",
    "                        center_pulse = np.mean(cluster, axis=0)  # 计算聚类中心\n",
    "                        rmse = np.sqrt(mean_squared_error(center_pulse, pulse))  # 计算RMSE\n",
    "                        if rmse < self.threshold:  # 如果RMSE低于阈值，将脉冲添加到聚类中\n",
    "                            cluster.append(pulse)\n",
    "                            break\n",
    "                    else:  # 如果脉冲与现有的所有聚类的中心的RMSE都高于阈值，创建新的聚类\n",
    "                        self.clusters.append([pulse])\n",
    "\n",
    "        def get_clusters(self):\n",
    "            return self.clusters\n",
    "\n",
    "    threshold = 0.000005  # 这是一个选择的阈值\n",
    "\n",
    "    clustering = PulseClustering(threshold)\n",
    "    clustering.fit(stacked_array)\n",
    "    clusters = clustering.get_clusters()\n",
    "\n",
    "    num_pulses_per_cluster = [len(cluster) for cluster in clusters]\n",
    "\n",
    "    # 打印结果\n",
    "#     for i, num_pulses in enumerate(num_pulses_per_cluster):\n",
    "#         print(f\"Cluster {i+1} contains {num_pulses} pulses.\")\n",
    "\n",
    "    max_cluster = max(clusters, key=len)\n",
    "\n",
    "    # 计算最大聚类的平均脉冲\n",
    "    average_pulse = np.mean(max_cluster, axis=0)\n",
    "    return average_pulse"
   ]
  },
  {
   "cell_type": "code",
   "execution_count": 3,
   "id": "d8175382-8df2-478a-88dd-3df7bbd8044c",
   "metadata": {},
   "outputs": [],
   "source": [
    "data_train = np.load(\"../data/simu_20000_0.1_90_140_train.npy\")\n",
    "data_test = np.load(\"../data/simu_10000_0.1_141_178_test.npy\")"
   ]
  },
  {
   "cell_type": "code",
   "execution_count": 8,
   "id": "ddbc2b33-eb55-4124-9678-8ee2c0b219e8",
   "metadata": {},
   "outputs": [
    {
     "name": "stdout",
     "output_type": "stream",
     "text": [
      "*** Feature extraction started ***\n"
     ]
    },
    {
     "data": {
      "text/html": [
       "\n",
       "              <p>\n",
       "                  Progress: 100% Complete\n",
       "              <p/>\n",
       "              <progress\n",
       "                  value='1'\n",
       "                  max='1',\n",
       "                  style='width: 25%',\n",
       "              >\n",
       "                  1\n",
       "              </progress>\n",
       "\n",
       "    "
      ],
      "text/plain": [
       "<IPython.core.display.HTML object>"
      ]
     },
     "metadata": {},
     "output_type": "display_data"
    },
    {
     "name": "stdout",
     "output_type": "stream",
     "text": [
      "\n",
      "*** Feature extraction finished ***\n",
      "(2, 48)\n",
      "(1, 48)\n"
     ]
    }
   ],
   "source": [
    "# 获得train数据的48个TSFEL特征\n",
    "\n",
    "with open('../all_features.json', 'r') as file:\n",
    "    cfg_file = json.load(file)\n",
    "\n",
    "feature_48TSFEL_train = np.zeros((1,48))\n",
    "for i in range(1):\n",
    "    signal = data_train[i, :1000]\n",
    "    template = get_template(signal)\n",
    "    \n",
    "    features = tsfel.time_series_features_extractor(cfg_file, tmp, fs=100, window_size=len(tmp)).values.flatten()\n",
    "\n",
    "    feature_48TSFEL_train = np.vstack((feature_48TSFEL_train, features))\n",
    "\n",
    "print(feature_48TSFEL_train.shape)\n",
    "    \n",
    "feature_48TSFEL_train = np.delete(feature_48TSFEL_train, 0, axis = 0)\n",
    "print(feature_48TSFEL_train.shape)\n",
    "# np.save(\"../data/feature_48TSFEL_train\", feature_48TSFEL_train)"
   ]
  },
  {
   "cell_type": "code",
   "execution_count": 11,
   "id": "62780b88-3363-48c7-94ba-d6c3cd4850a0",
   "metadata": {},
   "outputs": [
    {
     "name": "stdout",
     "output_type": "stream",
     "text": [
      "(20000, 5)\n",
      "[1.07000000e+02 1.30000000e+01 4.60000000e+01 4.79722454e-06\n",
      " 1.75906232e-06]\n"
     ]
    }
   ],
   "source": [
    "# 获得train数据的48个TSFEL特征\n",
    "\n",
    "# with open('../all_features.json', 'r') as file:\n",
    "#     cfg_file = json.load(file)\n",
    "\n",
    "# feature_48TSFEL_train = np.zeros((1,48))\n",
    "# for i in range(data_train.shape[0]):\n",
    "#     signal = data_train[i, :1000]\n",
    "#     template = get_template(signal)\n",
    "    \n",
    "#     features = tsfel.time_series_features_extractor(cfg_file, template, fs=100, window_size=len(template)).values.flatten()\n",
    "\n",
    "#     feature_48TSFEL_train = np.vstack((feature_48TSFEL_train, features))\n",
    "\n",
    "# feature_48TSFEL_train = np.delete(feature_48TSFEL_train, 0, axis = 0)\n",
    "# np.save(\"../data/feature_48TSFEL_train\", feature_48TSFEL_train)\n",
    "\n",
    "tmp = np.load(\"../data/feature_x1x2y1y2_train.npy\")\n",
    "print(tmp.shape)\n",
    "print(tmp[0,:])"
   ]
  }
 ],
 "metadata": {
  "kernelspec": {
   "display_name": "Python 3 (ipykernel)",
   "language": "python",
   "name": "python3"
  },
  "language_info": {
   "codemirror_mode": {
    "name": "ipython",
    "version": 3
   },
   "file_extension": ".py",
   "mimetype": "text/x-python",
   "name": "python",
   "nbconvert_exporter": "python",
   "pygments_lexer": "ipython3",
   "version": "3.8.10"
  }
 },
 "nbformat": 4,
 "nbformat_minor": 5
}
